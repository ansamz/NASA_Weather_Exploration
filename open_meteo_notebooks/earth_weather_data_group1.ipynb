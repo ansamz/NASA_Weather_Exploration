{
 "cells": [
  {
   "cell_type": "markdown",
   "metadata": {},
   "source": [
    "### Earth weather data since 1940 (max allowed) from Open-Meteo's API\n"
   ]
  },
  {
   "cell_type": "markdown",
   "metadata": {},
   "source": [
    "#### Locations considered\n",
    "\n",
    "In order to get a good perspective on Earth's weather evolution, we looked into a variety of locations with different climate conditions. Listed below are the locations, their coordinated and overall description of the conditions:\n",
    "\n",
    "1. Cold Weather: Oymyakon, Russia\n",
    "Coordinates: 63.4608° N, 142.7850° E\n",
    "Oymyakon is a village in Siberia known as one of the coldest inhabited places on Earth. Temperatures can drop well below -50°C (-58°F).\n",
    "\n",
    "2. Desert: Sahara Desert, Africa\n",
    "Coordinates: 25°N, 13°E (Approximate center)\n",
    "The Sahara is the world's largest hot desert, covering a vast expanse of North Africa. Temperatures are scorching hot during the day and plummet at night.\n",
    "\n",
    "\n",
    "3. Rainforest: Amazon Rainforest, Brazil\n",
    "Coordinates: 3°S, 60°W (Approximate center)\n",
    "The Amazon is the world's largest rainforest, known for its incredible biodiversity and high levels of rainfall. It has a hot and humid climate year-round.\n",
    "\n",
    "4. Temperate: London, United Kingdom\n",
    "Coordinates: 51.5074° N, 0.1278° W\n",
    "London experiences a temperate climate with mild winters and warm (but not overly hot) summers. Rainfall is spread out throughout the year.\n",
    "\n",
    "5. Mediterranean: Athens, Greece\n",
    "Coordinates: 37.9838° N, 23.7275° E\n",
    "Athens has a typical Mediterranean climate: hot, dry summers and mild, wetter winters.\n",
    "\n",
    "6. Tropical Savanna: Serengeti National Park, Tanzania\n",
    "Coordinates: 2.3260° S, 34.8487° E\n",
    "The Serengeti is famous for its vast grasslands and wildlife. It has a tropical savanna climate with distinct wet and dry seasons.\n",
    "\n",
    "7. Mountainous: Mount Everest Base Camp, Nepal\n",
    "Coordinates: 27.9861° N, 86.9226° E\n",
    "Mount Everest Base Camp offers extreme high-altitude conditions. Expect frigid temperatures, even in summer, along with snow and ice.\n",
    "\n",
    "8. Coastal: Sydney, Australia\n",
    "Coordinates: 33.8688° S, 151.2093° E\n",
    "Sydney enjoys a temperate coastal climate with warm summers and mild winters. Its coastal location moderates temperatures.\n",
    "\n",
    "9. Polar: McMurdo Station, Antarctica\n",
    "Coordinates: 77.8460 °S, 166.6720° E\n",
    "McMurdo Station is a research center located on the edge of Antarctica. It experiences a polar climate with extremely cold temperatures year-round and very little precipitation.\n",
    "\n",
    "10. Semi-Arid: Death Valley, United States\n",
    "Coordinates: 36.2425° N, 116.8258° W\n",
    "Death Valley is one of the hottest and driest locations on Earth. This desert valley experiences extreme heat and holds the record for the highest recorded temperature on the planet.\n",
    "\n",
    "11. Temperate Oceanic: Zurich, Switzerland \n",
    "Coordinates: \n",
    "Zurich doesn't typically experience extreme temperature swings. Summers are warm but not excessively hot, while winters are cool but rarely bitterly cold. Moderate rainfall and occasional extremes."
   ]
  },
  {
   "cell_type": "markdown",
   "metadata": {},
   "source": [
    "##### ____ Library Import ____"
   ]
  },
  {
   "cell_type": "code",
   "execution_count": 1,
   "metadata": {},
   "outputs": [],
   "source": [
    "import openmeteo_requests                 # Open-Meteo weather API\n",
    "import requests_cache                     # chaching responses to reduce repetitive requests\n",
    "import pandas as pd\n",
    "from datetime import datetime, timezone\n",
    "import time\n",
    "from retry_requests import retry"
   ]
  },
  {
   "cell_type": "markdown",
   "metadata": {},
   "source": [
    "##### ____ Caching & Client ____"
   ]
  },
  {
   "cell_type": "code",
   "execution_count": 2,
   "metadata": {},
   "outputs": [],
   "source": [
    "cache_session = requests_cache.CachedSession(\".cache\", expire_after = -1)   # caching object; doesn't expire (-1)\n",
    "retry_session = retry(cache_session, retries = 5, backoff_factor = 0.2)     # in case the request fails\n",
    "openmeteo = openmeteo_requests.Client(session = retry_session)              # Open-Meteo client"
   ]
  },
  {
   "cell_type": "markdown",
   "metadata": {},
   "source": [
    "##### ____ Coords to Process ____"
   ]
  },
  {
   "cell_type": "code",
   "execution_count": 3,
   "metadata": {},
   "outputs": [],
   "source": [
    "coordinates = [\n",
    "    {\"name\": \"Oymyakon\", \"latitude\": 63.4608, \"longitude\": 142.7850},   # Oymyakon, Russia\n",
    "    {\"name\": \"Sahara\", \"latitude\": 25, \"longitude\": 13},                # Sahara Desert, Africa (Approximate center)\n",
    "    {\"name\": \"Amazon\", \"latitude\": 3, \"longitude\": -60},                # Amazon Rainforest, Brazil (Approximate center)\n",
    "    {\"name\": \"London\", \"latitude\": 51.5074, \"longitude\": -0.1278}       # London, United Kingdom\n",
    "]"
   ]
  },
  {
   "cell_type": "markdown",
   "metadata": {},
   "source": [
    "##### ____ Setup ____"
   ]
  },
  {
   "cell_type": "code",
   "execution_count": 4,
   "metadata": {},
   "outputs": [],
   "source": [
    "url = \"https://archive-api.open-meteo.com/v1/archive\"       # base URL"
   ]
  },
  {
   "cell_type": "code",
   "execution_count": 5,
   "metadata": {},
   "outputs": [],
   "source": [
    "now_utc = datetime.now(timezone.utc) \n",
    "end_date = now_utc.strftime(\"%Y-%m-%d\")  "
   ]
  },
  {
   "cell_type": "code",
   "execution_count": 6,
   "metadata": {},
   "outputs": [],
   "source": [
    "# params contains the query details \n",
    "base_params = {\n",
    "    \"start_date\": \"1940-01-01\",\n",
    "    \"end_date\": \"2024-03-16\",\n",
    "    \"hourly\": [\"temperature_2m\", \"relative_humidity_2m\", \"rain\", \"direct_radiation_instant\"]\n",
    "}"
   ]
  },
  {
   "cell_type": "markdown",
   "metadata": {},
   "source": [
    "##### ____ Request ____"
   ]
  },
  {
   "cell_type": "code",
   "execution_count": 7,
   "metadata": {},
   "outputs": [
    {
     "name": "stdout",
     "output_type": "stream",
     "text": [
      "Coordinates 63.444637298583984°N 142.77487182617188°E\n",
      "Elevation 679.0m ASL (*Above Sea Level)\n",
      "Timezone None None\n",
      "Timezone difference to GMT+0 0s\n",
      "Coordinates 24.9912109375°N 12.981700897216797°E\n",
      "Elevation 681.0m ASL (*Above Sea Level)\n",
      "Timezone None None\n",
      "Timezone difference to GMT+0 0s\n",
      "Coordinates 2.9876976013183594°N -60.0°E\n",
      "Elevation 103.0m ASL (*Above Sea Level)\n",
      "Timezone None None\n",
      "Timezone difference to GMT+0 0s\n",
      "Coordinates 51.49384689331055°N -0.16302490234375°E\n",
      "Elevation 16.0m ASL (*Above Sea Level)\n",
      "Timezone None None\n",
      "Timezone difference to GMT+0 0s\n"
     ]
    }
   ],
   "source": [
    "results = []  \n",
    "hourly_dataframe = pd.DataFrame()\n",
    "\n",
    "\n",
    "for coords in coordinates:\n",
    "    params = base_params.copy()  # making a copy to avoid modifying the base parameters\n",
    "    loc_name = coords[\"name\"]\n",
    "    params[\"latitude\"] = coords[\"latitude\"]\n",
    "    params[\"longitude\"] = coords[\"longitude\"]\n",
    "\n",
    "\n",
    "    responses = openmeteo.weather_api(url, params=params)\n",
    "    response = responses[0]  \n",
    "\n",
    "    # prints added to track progress\n",
    "    print(f\"Coordinates {response.Latitude()}°N {response.Longitude()}°E\")\n",
    "    print(f\"Elevation {response.Elevation()}m ASL (*Above Sea Level)\")\n",
    "    print(f\"Timezone {response.Timezone()} {response.TimezoneAbbreviation()}\")\n",
    "    print(f\"Timezone difference to GMT+0 {response.UtcOffsetSeconds()}s\")\n",
    "\n",
    "    hourly = response.Hourly()\n",
    "    hourly_temperature_2m = hourly.Variables(0).ValuesAsNumpy()\n",
    "    hourly_relative_humidity_2m = hourly.Variables(1).ValuesAsNumpy()\n",
    "    hourly_rain = hourly.Variables(2).ValuesAsNumpy()\n",
    "    hourly_direct_radiation_instant = hourly.Variables(3).ValuesAsNumpy()\n",
    "\n",
    "    hourly_data = {\"date\": pd.date_range(\n",
    "        start = pd.to_datetime(hourly.Time(), unit = \"s\", utc = True),\n",
    "        end = pd.to_datetime(hourly.TimeEnd(), unit = \"s\", utc = True),\n",
    "        freq = pd.Timedelta(seconds = hourly.Interval()),\n",
    "        inclusive = \"left\"\n",
    "    )}\n",
    "    hourly_data[\"latitude\"] = params[\"latitude\"]\n",
    "    hourly_data[\"longitude\"] = params[\"longitude\"]\n",
    "    hourly_data[\"temperature_2m\"] = hourly_temperature_2m\n",
    "    hourly_data[\"relative_humidity_2m\"] = hourly_relative_humidity_2m\n",
    "    hourly_data[\"rain\"] = hourly_rain\n",
    "    hourly_data[\"direct_radiation_instant\"] = hourly_direct_radiation_instant\n",
    "\n",
    "\n",
    "    results.append({\n",
    "        \"coordinates\": coords, \n",
    "        \"weather_data\": hourly_dataframe.to_dict(\"records\") \n",
    "    })\n",
    "\n",
    "    temp_df = pd.DataFrame(hourly_data) \n",
    "\n",
    "\n",
    "    hourly_dataframe = pd.concat([hourly_dataframe, temp_df], ignore_index=True) \n",
    "    hourly_dataframe.to_json(f\"../data/weather_data_{loc_name}.json\", orient=\"records\")\n",
    "\n",
    "    time.sleep(60)    # to avoid limitations"
   ]
  }
 ],
 "metadata": {
  "kernelspec": {
   "display_name": "nosql_lab",
   "language": "python",
   "name": "python3"
  },
  "language_info": {
   "codemirror_mode": {
    "name": "ipython",
    "version": 3
   },
   "file_extension": ".py",
   "mimetype": "text/x-python",
   "name": "python",
   "nbconvert_exporter": "python",
   "pygments_lexer": "ipython3",
   "version": "3.12.3"
  }
 },
 "nbformat": 4,
 "nbformat_minor": 2
}
