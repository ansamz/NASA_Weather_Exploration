{
 "cells": [
  {
   "cell_type": "markdown",
   "metadata": {},
   "source": [
    "### Earth weather data since 1940 (max allowed) from Open-Meteo's API\n"
   ]
  },
  {
   "cell_type": "markdown",
   "metadata": {},
   "source": [
    "For description of  locations considered and overall process, check notebook [earth_weather_data_group_1.ipynb][mylink]\n",
    "\n",
    "[mylink]: earth_weather_data_group1.ipynb"
   ]
  },
  {
   "cell_type": "code",
   "execution_count": 1,
   "metadata": {},
   "outputs": [],
   "source": [
    "#____ Library Import ____\n",
    "\n",
    "#! pip install openmeteo_requests\n",
    "#! pip install requests_cache\n",
    "#! pip install retry_requests\n",
    "\n",
    "import openmeteo_requests         # Open-Meteo weather API\n",
    "import requests_cache             # chaching responses to reduce repetitive requests\n",
    "import pandas as pd\n",
    "from datetime import datetime, timezone\n",
    "import time\n",
    "from retry_requests import retry"
   ]
  },
  {
   "cell_type": "code",
   "execution_count": 2,
   "metadata": {},
   "outputs": [],
   "source": [
    "#____ Caching & Client ____\n",
    "\n",
    "cache_session = requests_cache.CachedSession(\".cache\", expire_after = -1)   # caching object; doesn't expire (-1)\n",
    "retry_session = retry(cache_session, retries = 5, backoff_factor = 0.2)     # in case the request fails\n",
    "openmeteo = openmeteo_requests.Client(session = retry_session)              # Open-Meteo client"
   ]
  },
  {
   "cell_type": "code",
   "execution_count": 3,
   "metadata": {},
   "outputs": [],
   "source": [
    "#____ Coords to Process ____\n",
    "\n",
    "coordinates = [\n",
    "    {\"name\": \"McMurdo\", \"latitude\": -77.8460, \"longitude\": 166.6720},       # McMurdo Station, Antarctica\n",
    "    {\"name\": \"Death_Valley\", \"latitude\": 36.2425, \"longitude\": -116.8258},  # Death Valley, United States \n",
    "    {\"name\": \"Zurich\", \"latitude\": 47.38, \"longitude\": 8.54}               # Zurich, Switzerland\n",
    "]"
   ]
  },
  {
   "cell_type": "code",
   "execution_count": 4,
   "metadata": {},
   "outputs": [],
   "source": [
    "#____ Setup ____\n",
    "url = \"https://archive-api.open-meteo.com/v1/archive\"       # base URL"
   ]
  },
  {
   "cell_type": "code",
   "execution_count": 5,
   "metadata": {},
   "outputs": [],
   "source": [
    "now_utc = datetime.now(timezone.utc) \n",
    "end_date = now_utc.strftime(\"%Y-%m-%d\")  "
   ]
  },
  {
   "cell_type": "code",
   "execution_count": 6,
   "metadata": {},
   "outputs": [],
   "source": [
    "# params contains the query details \n",
    "base_params = {\n",
    "    \"start_date\": \"1940-01-01\",\n",
    "    \"end_date\": \"2024-03-16\",\n",
    "    \"hourly\": [\"temperature_2m\", \"relative_humidity_2m\", \"rain\", \"direct_radiation_instant\"]\n",
    "}"
   ]
  },
  {
   "cell_type": "code",
   "execution_count": 7,
   "metadata": {},
   "outputs": [
    {
     "name": "stdout",
     "output_type": "stream",
     "text": [
      "Coordinates -77.85588836669922°N 166.7796630859375°E\n",
      "Elevation 36.0m ASL (*Above Sea Level)\n",
      "Timezone None None\n",
      "Timezone difference to GMT+0 0s\n",
      "Coordinates 36.239013671875°N -116.80104064941406°E\n",
      "Elevation -86.0m ASL (*Above Sea Level)\n",
      "Timezone None None\n",
      "Timezone difference to GMT+0 0s\n",
      "Coordinates 47.34621810913086°N 8.54337215423584°E\n",
      "Elevation 412.0m ASL (*Above Sea Level)\n",
      "Timezone None None\n",
      "Timezone difference to GMT+0 0s\n"
     ]
    }
   ],
   "source": [
    "#____ Request ____\n",
    "results = [] \n",
    "hourly_dataframe = pd.DataFrame()\n",
    "\n",
    "for coords in coordinates:\n",
    "    params = base_params.copy()  # making a copy to avoid modifying the base parameters\n",
    "    loc_name = coords[\"name\"]\n",
    "    params[\"latitude\"] = coords[\"latitude\"]\n",
    "    params[\"longitude\"] = coords[\"longitude\"]\n",
    "\n",
    "\n",
    "    responses = openmeteo.weather_api(url, params=params)\n",
    "    response = responses[0]  \n",
    "\n",
    "    print(f\"Coordinates {response.Latitude()}°N {response.Longitude()}°E\")\n",
    "    print(f\"Elevation {response.Elevation()}m ASL (*Above Sea Level)\")\n",
    "    print(f\"Timezone {response.Timezone()} {response.TimezoneAbbreviation()}\")\n",
    "    print(f\"Timezone difference to GMT+0 {response.UtcOffsetSeconds()}s\")\n",
    "\n",
    "    hourly = response.Hourly()\n",
    "    hourly_temperature_2m = hourly.Variables(0).ValuesAsNumpy()\n",
    "    hourly_relative_humidity_2m = hourly.Variables(1).ValuesAsNumpy()\n",
    "    hourly_rain = hourly.Variables(2).ValuesAsNumpy()\n",
    "    hourly_direct_radiation_instant = hourly.Variables(3).ValuesAsNumpy()\n",
    "\n",
    "    hourly_data = {\"date\": pd.date_range(\n",
    "        start = pd.to_datetime(hourly.Time(), unit = \"s\", utc = True),\n",
    "        end = pd.to_datetime(hourly.TimeEnd(), unit = \"s\", utc = True),\n",
    "        freq = pd.Timedelta(seconds = hourly.Interval()),\n",
    "        inclusive = \"left\"\n",
    "    )}\n",
    "    hourly_data[\"latitude\"] = params[\"latitude\"]\n",
    "    hourly_data[\"longitude\"] = params[\"longitude\"]\n",
    "    hourly_data[\"temperature_2m\"] = hourly_temperature_2m\n",
    "    hourly_data[\"relative_humidity_2m\"] = hourly_relative_humidity_2m\n",
    "    hourly_data[\"rain\"] = hourly_rain\n",
    "    hourly_data[\"direct_radiation_instant\"] = hourly_direct_radiation_instant\n",
    "\n",
    "    hourly_dataframe = pd.DataFrame(data = hourly_data)\n",
    "\n",
    "\n",
    "    results.append({\n",
    "        \"coordinates\": coords,  \n",
    "        \"weather_data\": hourly_dataframe.to_dict(\"records\") \n",
    "    })\n",
    "\n",
    "    temp_df = pd.DataFrame(hourly_data) \n",
    "\n",
    "\n",
    "    hourly_dataframe = pd.concat([hourly_dataframe, temp_df], ignore_index=True) \n",
    "    hourly_dataframe.to_json(f\"../data/weather_data_{loc_name}.json\", orient=\"records\")\n",
    "\n",
    "    time.sleep(60)  \n"
   ]
  }
 ],
 "metadata": {
  "kernelspec": {
   "display_name": "nosql_lab",
   "language": "python",
   "name": "python3"
  },
  "language_info": {
   "codemirror_mode": {
    "name": "ipython",
    "version": 3
   },
   "file_extension": ".py",
   "mimetype": "text/x-python",
   "name": "python",
   "nbconvert_exporter": "python",
   "pygments_lexer": "ipython3",
   "version": "3.12.3"
  }
 },
 "nbformat": 4,
 "nbformat_minor": 2
}
