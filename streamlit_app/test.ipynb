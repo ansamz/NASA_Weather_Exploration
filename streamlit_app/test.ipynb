{
 "cells": [
  {
   "cell_type": "code",
   "execution_count": 9,
   "metadata": {},
   "outputs": [],
   "source": [
    "import pandas as pd\n",
    "import db_connect\n",
    "import os"
   ]
  },
  {
   "cell_type": "code",
   "execution_count": 3,
   "metadata": {},
   "outputs": [
    {
     "name": "stdout",
     "output_type": "stream",
     "text": [
      "Successfully connected to the database!\n"
     ]
    }
   ],
   "source": [
    "earth_weather_data = db_connect.earth_weather_data()"
   ]
  },
  {
   "cell_type": "code",
   "execution_count": 14,
   "metadata": {},
   "outputs": [],
   "source": [
    "daily_average = earth_weather_data.groupby(['date', 'location']).agg({\n",
    "    \"latitude\" : \"first\",\n",
    "    \"longitude\" : \"first\",\n",
    "    \"temperature_2m\" : \"mean\",\n",
    "    \"relative_humidity_2m\" : \"mean\",\n",
    "    \"rain\" : \"mean\",\n",
    "    \"direct_radiation_instant\" : \"mean\"\n",
    "}).reset_index()\n"
   ]
  },
  {
   "cell_type": "code",
   "execution_count": 6,
   "metadata": {},
   "outputs": [
    {
     "data": {
      "text/html": [
       "<div>\n",
       "<style scoped>\n",
       "    .dataframe tbody tr th:only-of-type {\n",
       "        vertical-align: middle;\n",
       "    }\n",
       "\n",
       "    .dataframe tbody tr th {\n",
       "        vertical-align: top;\n",
       "    }\n",
       "\n",
       "    .dataframe thead th {\n",
       "        text-align: right;\n",
       "    }\n",
       "</style>\n",
       "<table border=\"1\" class=\"dataframe\">\n",
       "  <thead>\n",
       "    <tr style=\"text-align: right;\">\n",
       "      <th></th>\n",
       "      <th>date</th>\n",
       "      <th>latitude</th>\n",
       "      <th>longitude</th>\n",
       "      <th>temperature_2m</th>\n",
       "      <th>relative_humidity_2m</th>\n",
       "      <th>rain</th>\n",
       "      <th>direct_radiation_instant</th>\n",
       "      <th>location</th>\n",
       "    </tr>\n",
       "  </thead>\n",
       "  <tbody>\n",
       "    <tr>\n",
       "      <th>0</th>\n",
       "      <td>1940-01-01 07:00:00</td>\n",
       "      <td>25.0</td>\n",
       "      <td>13.0</td>\n",
       "      <td>-2.023884</td>\n",
       "      <td>66.252353</td>\n",
       "      <td>0.003846</td>\n",
       "      <td>151.680917</td>\n",
       "      <td>True</td>\n",
       "    </tr>\n",
       "    <tr>\n",
       "      <th>1</th>\n",
       "      <td>1940-01-01 08:00:00</td>\n",
       "      <td>25.0</td>\n",
       "      <td>13.0</td>\n",
       "      <td>-1.491192</td>\n",
       "      <td>63.522008</td>\n",
       "      <td>0.015385</td>\n",
       "      <td>189.521734</td>\n",
       "      <td>True</td>\n",
       "    </tr>\n",
       "    <tr>\n",
       "      <th>2</th>\n",
       "      <td>1940-01-01 09:00:00</td>\n",
       "      <td>25.0</td>\n",
       "      <td>13.0</td>\n",
       "      <td>-0.798884</td>\n",
       "      <td>61.696856</td>\n",
       "      <td>0.011538</td>\n",
       "      <td>202.938687</td>\n",
       "      <td>True</td>\n",
       "    </tr>\n",
       "    <tr>\n",
       "      <th>3</th>\n",
       "      <td>1940-01-01 10:00:00</td>\n",
       "      <td>25.0</td>\n",
       "      <td>13.0</td>\n",
       "      <td>0.008808</td>\n",
       "      <td>59.541182</td>\n",
       "      <td>0.026923</td>\n",
       "      <td>206.423082</td>\n",
       "      <td>True</td>\n",
       "    </tr>\n",
       "    <tr>\n",
       "      <th>4</th>\n",
       "      <td>1940-01-01 11:00:00</td>\n",
       "      <td>25.0</td>\n",
       "      <td>13.0</td>\n",
       "      <td>0.314577</td>\n",
       "      <td>57.913924</td>\n",
       "      <td>0.011538</td>\n",
       "      <td>170.911665</td>\n",
       "      <td>True</td>\n",
       "    </tr>\n",
       "  </tbody>\n",
       "</table>\n",
       "</div>"
      ],
      "text/plain": [
       "                 date  latitude  longitude  temperature_2m  \\\n",
       "0 1940-01-01 07:00:00      25.0       13.0       -2.023884   \n",
       "1 1940-01-01 08:00:00      25.0       13.0       -1.491192   \n",
       "2 1940-01-01 09:00:00      25.0       13.0       -0.798884   \n",
       "3 1940-01-01 10:00:00      25.0       13.0        0.008808   \n",
       "4 1940-01-01 11:00:00      25.0       13.0        0.314577   \n",
       "\n",
       "   relative_humidity_2m      rain  direct_radiation_instant  location  \n",
       "0             66.252353  0.003846                151.680917      True  \n",
       "1             63.522008  0.015385                189.521734      True  \n",
       "2             61.696856  0.011538                202.938687      True  \n",
       "3             59.541182  0.026923                206.423082      True  \n",
       "4             57.913924  0.011538                170.911665      True  "
      ]
     },
     "execution_count": 6,
     "metadata": {},
     "output_type": "execute_result"
    }
   ],
   "source": [
    "daily_average.head()"
   ]
  },
  {
   "cell_type": "code",
   "execution_count": 9,
   "metadata": {},
   "outputs": [
    {
     "data": {
      "text/plain": [
       "array(['Amazon', 'Athens', 'Everest', 'London', 'McMurdo', 'Oymyakon',\n",
       "       'Sahara', 'Serengeti', 'Sydney', 'Valley', 'Zurich'], dtype=object)"
      ]
     },
     "execution_count": 9,
     "metadata": {},
     "output_type": "execute_result"
    }
   ],
   "source": [
    "daily_average[\"location\"].unique()"
   ]
  },
  {
   "cell_type": "code",
   "execution_count": 13,
   "metadata": {},
   "outputs": [],
   "source": [
    "daily_average.to_parquet('df.parquet.gzip', compression='gzip')\n"
   ]
  },
  {
   "cell_type": "code",
   "execution_count": null,
   "metadata": {},
   "outputs": [],
   "source": []
  },
  {
   "cell_type": "code",
   "execution_count": 10,
   "metadata": {},
   "outputs": [],
   "source": [
    "if not os.path.exists('data'):\n",
    "    os.makedirs('data')"
   ]
  },
  {
   "cell_type": "code",
   "execution_count": 11,
   "metadata": {},
   "outputs": [],
   "source": [
    "for location in earth_weather_data['location'].unique():\n",
    "    subset = earth_weather_data[earth_weather_data['location'] == location].groupby('date').agg({\n",
    "        \"latitude\": \"first\",\n",
    "        \"longitude\": \"first\",\n",
    "        \"temperature_2m\": \"mean\",\n",
    "        \"relative_humidity_2m\": \"mean\",\n",
    "        \"rain\": \"mean\",\n",
    "        \"direct_radiation_instant\": \"mean\",\n",
    "    }).reset_index()\n",
    "    \n",
    "    # Save the aggregated data for this location to a Parquet file\n",
    "    subset.to_parquet(os.path.join('data', f'{location}.parquet.gzip'), index=False, compression=\"gzip\")\n"
   ]
  },
  {
   "cell_type": "code",
   "execution_count": null,
   "metadata": {},
   "outputs": [],
   "source": []
  }
 ],
 "metadata": {
  "kernelspec": {
   "display_name": "dw_proj",
   "language": "python",
   "name": "python3"
  },
  "language_info": {
   "codemirror_mode": {
    "name": "ipython",
    "version": 3
   },
   "file_extension": ".py",
   "mimetype": "text/x-python",
   "name": "python",
   "nbconvert_exporter": "python",
   "pygments_lexer": "ipython3",
   "version": "3.12.3"
  }
 },
 "nbformat": 4,
 "nbformat_minor": 2
}
