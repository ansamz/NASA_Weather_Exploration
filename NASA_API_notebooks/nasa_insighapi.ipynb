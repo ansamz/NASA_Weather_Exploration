{
 "cells": [
  {
   "cell_type": "markdown",
   "metadata": {},
   "source": [
    "# NASA INSIGHT API"
   ]
  },
  {
   "cell_type": "code",
   "execution_count": 1,
   "metadata": {},
   "outputs": [],
   "source": [
    "import requests\n",
    "import json\n",
    "import pandas as pd"
   ]
  },
  {
   "cell_type": "code",
   "execution_count": 2,
   "metadata": {},
   "outputs": [
    {
     "data": {
      "text/plain": [
       "datetime.datetime(2024, 5, 20, 10, 33, 32, 669860)"
      ]
     },
     "execution_count": 2,
     "metadata": {},
     "output_type": "execute_result"
    }
   ],
   "source": [
    "from datetime import datetime\n",
    "datetime.now()"
   ]
  },
  {
   "cell_type": "code",
   "execution_count": 3,
   "metadata": {},
   "outputs": [],
   "source": [
    "with open('../config.json', 'r') as jsonfile:\n",
    "    data = json.load(jsonfile)\n",
    "api_key = data['api_key']"
   ]
  },
  {
   "cell_type": "code",
   "execution_count": 5,
   "metadata": {},
   "outputs": [],
   "source": [
    "url = f'https://api.nasa.gov/insight_weather/?api_key={api_key}&feedtype=json'"
   ]
  },
  {
   "cell_type": "code",
   "execution_count": 4,
   "metadata": {},
   "outputs": [],
   "source": [
    "def get_mars_weather():\n",
    "    try:\n",
    "        response = requests.get(url)\n",
    "        response.raise_for_status()\n",
    "        data = response.json()\n",
    "\n",
    "        print(data)\n",
    "\n",
    "        sol_keys = data['sol_keys']\n",
    "        print(f\"Latest available Sols: {sol_keys}\")\n",
    "\n",
    "        for sol in sol_keys:\n",
    "            sol_data = data[sol]\n",
    "            print(f\"\\nWeather for Sol {sol}:\")\n",
    "            if 'AT' in sol_data:\n",
    "                print(f\"Average Temperature: {sol_data['AT']['av']}°C\")\n",
    "            else:\n",
    "                print(\"Temperature data is not available.\")\n",
    "            \n",
    "            if 'HWS' in sol_data:\n",
    "                print(f\"Average Wind Speed: {sol_data['HWS']['av']} m/s\")\n",
    "            else:\n",
    "                print(\"Wind speed data is not available.\")\n",
    "            \n",
    "            if 'PRE' in sol_data:\n",
    "                print(f\"Average Atmospheric Pressure: {sol_data['PRE']['av']} Pa\")\n",
    "            else:\n",
    "                print(\"Pressure data is not available.\")\n",
    "            \n",
    "            if 'WD' in sol_data and sol_data['WD'].get('most_common'):\n",
    "                print(f\"Most Common Wind Direction: {sol_data['WD']['most_common']['compass_point']}\")\n",
    "            else:\n",
    "                print(\"Wind direction data is not available.\")\n",
    "\n",
    "            print(f\"Mars Season: {sol_data['Season']}\")\n",
    "            print(f\"First Data UTC: {sol_data['First_UTC']}\")\n",
    "            print(f\"Last Data UTC: {sol_data['Last_UTC']}\")\n",
    "\n",
    "    except requests.exceptions.RequestException as e:\n",
    "        print(f\"Request failed: {e}\")\n",
    "    except KeyError as e:\n",
    "        print(f\"Error processing data: {e} - The structure of the data might have changed or it's currently unavailable.\")"
   ]
  },
  {
   "cell_type": "code",
   "execution_count": 5,
   "metadata": {},
   "outputs": [
    {
     "name": "stdout",
     "output_type": "stream",
     "text": [
      "{'sol_keys': [], 'validity_checks': {'1219': {'AT': {'sol_hours_with_data': [6, 7, 8, 9, 10, 11, 12], 'valid': False}, 'HWS': {'sol_hours_with_data': [6, 7, 8, 9, 10, 11, 12], 'valid': False}, 'PRE': {'sol_hours_with_data': [6, 7, 8, 9, 10, 11, 12], 'valid': False}, 'WD': {'sol_hours_with_data': [6, 7, 8, 9, 10, 11, 12], 'valid': False}}, 'sol_hours_required': 18, 'sols_checked': ['1219']}}\n",
      "Latest available Sols: []\n"
     ]
    }
   ],
   "source": [
    "get_mars_weather()"
   ]
  },
  {
   "cell_type": "markdown",
   "metadata": {},
   "source": [
    "## Solar flare"
   ]
  },
  {
   "cell_type": "code",
   "execution_count": 7,
   "metadata": {},
   "outputs": [
    {
     "data": {
      "text/plain": [
       "('2012-08-07', '2018-02-27')"
      ]
     },
     "execution_count": 7,
     "metadata": {},
     "output_type": "execute_result"
    }
   ],
   "source": [
    "mars_data = pd.read_csv('../data/mars-weather.csv')\n",
    "mars_data.terrestrial_date.min(), mars_data.terrestrial_date.max()"
   ]
  },
  {
   "cell_type": "code",
   "execution_count": 10,
   "metadata": {},
   "outputs": [],
   "source": [
    "mars_data['terrestrial_date'] = pd.to_datetime(mars_data['terrestrial_date'])"
   ]
  },
  {
   "cell_type": "code",
   "execution_count": 11,
   "metadata": {},
   "outputs": [
    {
     "data": {
      "text/plain": [
       "(Timestamp('2014-01-02 00:00:00'), Timestamp('2022-11-25 00:00:00'))"
      ]
     },
     "execution_count": 11,
     "metadata": {},
     "output_type": "execute_result"
    }
   ],
   "source": [
    "mars_data2 = pd.read_csv('../data/marsWeather.csv')\n",
    "mars_data2['terrestrial_date'] = pd.to_datetime(mars_data2['terrestrial_date'])\n",
    "mars_data2.terrestrial_date.min(), mars_data2.terrestrial_date.max()"
   ]
  },
  {
   "cell_type": "code",
   "execution_count": 13,
   "metadata": {},
   "outputs": [],
   "source": [
    "start_date = mars_data.terrestrial_date.min().strftime('%Y-%m-%d')\n",
    "end_date = mars_data2.terrestrial_date.max().strftime('%Y-%m-%d')\n",
    "\n",
    "current_date = datetime.strptime(start_date, '%Y-%m-%d')\n",
    "end_date = datetime.strptime(end_date, '%Y-%m-%d')"
   ]
  },
  {
   "cell_type": "code",
   "execution_count": 14,
   "metadata": {},
   "outputs": [
    {
     "name": "stdout",
     "output_type": "stream",
     "text": [
      "Data saved for 2012-08-07 to 2012-08-31\n",
      "Data saved for 2012-09-01 to 2012-09-30\n",
      "Data saved for 2012-10-01 to 2012-10-31\n",
      "Data saved for 2012-11-01 to 2012-11-30\n",
      "Data saved for 2013-03-01 to 2013-03-31\n",
      "Data saved for 2013-04-01 to 2013-04-30\n",
      "Data saved for 2013-05-01 to 2013-05-31\n",
      "Data saved for 2013-06-01 to 2013-06-30\n",
      "Data saved for 2013-10-01 to 2013-10-31\n",
      "Data saved for 2013-11-01 to 2013-11-30\n",
      "Data saved for 2013-12-01 to 2013-12-31\n",
      "Data saved for 2014-01-01 to 2014-01-31\n",
      "Data saved for 2014-02-01 to 2014-02-28\n",
      "Data saved for 2014-03-01 to 2014-03-31\n",
      "Data saved for 2014-04-01 to 2014-04-30\n",
      "Data saved for 2014-05-01 to 2014-05-31\n",
      "Data saved for 2014-06-01 to 2014-06-30\n",
      "Data saved for 2014-07-01 to 2014-07-31\n",
      "Data saved for 2014-08-01 to 2014-08-31\n",
      "Data saved for 2014-09-01 to 2014-09-30\n",
      "Data saved for 2014-10-01 to 2014-10-31\n",
      "Data saved for 2014-11-01 to 2014-11-30\n",
      "Data saved for 2014-12-01 to 2014-12-31\n",
      "Data saved for 2015-01-01 to 2015-01-31\n",
      "Data saved for 2015-02-01 to 2015-02-28\n",
      "Data saved for 2015-03-01 to 2015-03-31\n",
      "Data saved for 2015-04-01 to 2015-04-30\n",
      "Data saved for 2015-05-01 to 2015-05-31\n",
      "Data saved for 2015-06-01 to 2015-06-30\n",
      "Data saved for 2015-07-01 to 2015-07-31\n",
      "Data saved for 2015-08-01 to 2015-08-31\n",
      "Data saved for 2015-09-01 to 2015-09-30\n",
      "Data saved for 2015-10-01 to 2015-10-31\n",
      "Data saved for 2015-11-01 to 2015-11-30\n",
      "Data saved for 2015-12-01 to 2015-12-31\n",
      "Data saved for 2016-01-01 to 2016-01-31\n",
      "Data saved for 2016-02-01 to 2016-02-29\n",
      "Data saved for 2016-03-01 to 2016-03-31\n",
      "Data saved for 2016-04-01 to 2016-04-30\n",
      "Data saved for 2016-06-01 to 2016-06-30\n",
      "Data saved for 2016-07-01 to 2016-07-31\n",
      "Data saved for 2016-08-01 to 2016-08-31\n",
      "Data saved for 2016-11-01 to 2016-11-30\n",
      "Data saved for 2016-12-01 to 2016-12-31\n",
      "Data saved for 2017-01-01 to 2017-01-31\n",
      "Data saved for 2017-03-01 to 2017-03-31\n",
      "Data saved for 2017-04-01 to 2017-04-30\n",
      "Data saved for 2017-06-01 to 2017-06-30\n",
      "Data saved for 2017-07-01 to 2017-07-31\n",
      "Data saved for 2017-08-01 to 2017-08-31\n",
      "Data saved for 2017-09-01 to 2017-09-30\n",
      "Data saved for 2017-10-01 to 2017-10-31\n",
      "Data saved for 2018-02-01 to 2018-02-28\n",
      "Data saved for 2018-03-01 to 2018-03-31\n",
      "Data saved for 2018-05-01 to 2018-05-31\n",
      "Data saved for 2019-01-01 to 2019-01-31\n",
      "Data saved for 2019-03-01 to 2019-03-31\n",
      "Data saved for 2019-05-01 to 2019-05-31\n",
      "Data saved for 2020-05-01 to 2020-05-31\n",
      "Data saved for 2020-11-01 to 2020-11-30\n",
      "Data saved for 2020-12-01 to 2020-12-31\n",
      "Data saved for 2021-02-01 to 2021-02-28\n",
      "Data saved for 2021-03-01 to 2021-03-31\n",
      "Data saved for 2021-04-01 to 2021-04-30\n",
      "Data saved for 2021-05-01 to 2021-05-31\n",
      "Data saved for 2021-06-01 to 2021-06-30\n",
      "Data saved for 2021-07-01 to 2021-07-31\n",
      "Data saved for 2021-08-01 to 2021-08-31\n",
      "Data saved for 2021-09-01 to 2021-09-30\n",
      "Data saved for 2021-10-01 to 2021-10-31\n",
      "Data saved for 2021-11-01 to 2021-11-30\n",
      "Data saved for 2021-12-01 to 2021-12-31\n",
      "Data saved for 2022-01-01 to 2022-01-31\n",
      "Data saved for 2022-02-01 to 2022-02-28\n",
      "Data saved for 2022-03-01 to 2022-03-31\n",
      "Data saved for 2022-04-01 to 2022-04-30\n",
      "Data saved for 2022-05-01 to 2022-05-31\n",
      "Data saved for 2022-06-01 to 2022-06-30\n",
      "Data saved for 2022-07-01 to 2022-07-31\n",
      "Data saved for 2022-08-01 to 2022-08-31\n",
      "Data saved for 2022-09-01 to 2022-09-30\n",
      "Data saved for 2022-10-01 to 2022-10-31\n",
      "Data saved for 2022-11-01 to 2022-11-30\n"
     ]
    }
   ],
   "source": [
    "from datetime import datetime, timedelta\n",
    "\n",
    "while current_date <= end_date:\n",
    "    next_month_date = current_date + timedelta(days=32)  # Move to the next month\n",
    "    next_month_date = next_month_date.replace(day=1)  # Set day to the first of the next month\n",
    "\n",
    "    # Format dates for the API\n",
    "    start_month = current_date.strftime('%Y-%m-%d')\n",
    "    end_month = (next_month_date - timedelta(days=1)).strftime('%Y-%m-%d')\n",
    "\n",
    "    # Create the API URL\n",
    "    solar_flare_url = f'https://api.nasa.gov/DONKI/FLR?startDate={start_month}&endDate={end_month}&api_key={api_key}'\n",
    "\n",
    "    try:\n",
    "        response = requests.get(solar_flare_url)\n",
    "        response.raise_for_status()\n",
    "        data = response.json()\n",
    "\n",
    "        # Normalize and save data if any flares were captured\n",
    "        if data:\n",
    "            normalized_data = pd.json_normalize(data)\n",
    "            file_name = f'../data/APIdata/solar_data_{start_month}_to_{end_month}.csv'\n",
    "            normalized_data.to_csv(file_name)\n",
    "            print(f'Data saved for {start_month} to {end_month}')\n",
    "\n",
    "    except requests.exceptions.RequestException as e:\n",
    "        print(f\"Request failed: {e}\")\n",
    "\n",
    "    # Move to the next month\n",
    "    current_date = next_month_date"
   ]
  },
  {
   "cell_type": "code",
   "execution_count": 16,
   "metadata": {},
   "outputs": [],
   "source": [
    "# we can change the dates \n",
    "solar_flare_url = f'https://api.nasa.gov/DONKI/FLR?startDate=2024-03-01&endDate=2024-04-01&api_key={api_key}'"
   ]
  },
  {
   "cell_type": "markdown",
   "metadata": {},
   "source": [
    "how it looks like\n",
    "\n",
    "```python\n",
    "[{\"flrID\":\"2016-01-01T23:00:00-FLR-001\",\"instruments\":[{\"displayName\":\"GOES15: SEM/XRS 1.0-8.0\"}],\"beginTime\":\"2016-01-01T23:00Z\",\"peakTime\":\"2015-01-02T00:10Z\",\"endTime\":null,\"classType\":\"M2.3\",\"sourceLocation\":\"S21W73\",\"activeRegionNum\":12473,\"linkedEvents\":[{\"activityID\":\"2016-01-01T23:12:00-CME-001\"},{\"activityID\":\"2016-01-02T02:48:00-SEP-001\"},{\"activityID\":\"2016-01-02T04:30:00-SEP-001\"}],\"link\":\"https://webtools.ccmc.gsfc.nasa.gov/DONKI/view/FLR/9963/-1\"},{\"flrID\":\"2016-01-28T11:48:00-FLR-001\",\"instruments\":[{\"displayName\":\"GOES15: SEM/XRS 1.0-8.0\"}],\"beginTime\":\"2016-01-28T11:48Z\",\"peakTime\":\"2016-01-28T12:02Z\",\"endTime\":\"2016-01-28T12:56Z\",\"classType\":\"C9.6\",\"sourceLocation\":\"N03W47\",\"activeRegionNum\":12488,\"linkedEvents\":[{\"activityID\":\"2016-01-28T12:24:00-CME-001\"}],\"link\":\"https://webtools.ccmc.gsfc.nasa.gov/DONKI/view/FLR/10122/-1\"}]\n",
    "```"
   ]
  },
  {
   "cell_type": "code",
   "execution_count": 17,
   "metadata": {},
   "outputs": [
    {
     "name": "stdout",
     "output_type": "stream",
     "text": [
      "1\n"
     ]
    }
   ],
   "source": [
    "try:\n",
    "    response = requests.get(solar_flare_url)\n",
    "    response.raise_for_status()\n",
    "    data = response.json()\n",
    "    print(len(data))\n",
    "except requests.exceptions.RequestException as e:\n",
    "    print(f\"Request failed: {e}\")"
   ]
  },
  {
   "cell_type": "code",
   "execution_count": 13,
   "metadata": {},
   "outputs": [
    {
     "data": {
      "text/plain": [
       "{'flrID': '2024-03-07T22:02:00-FLR-001',\n",
       " 'instruments': [{'displayName': 'GOES-P: EXIS 1.0-8.0'}],\n",
       " 'beginTime': '2024-03-07T22:02Z',\n",
       " 'peakTime': '2024-03-07T22:33Z',\n",
       " 'endTime': '2024-03-07T23:24Z',\n",
       " 'classType': 'C3.5',\n",
       " 'sourceLocation': 'N17W90',\n",
       " 'activeRegionNum': None,\n",
       " 'note': 'Brightening is seen in SDO AIA 131 on or just beyond the NW limb at about N17. This brightening simultaneously occurs with opening field lines and ejecta which are also observed just beyond the NW limb at abut N17 in SDO AIA 131 starting at 2024-03-07T22:09Z.',\n",
       " 'linkedEvents': [{'activityID': '2024-03-07T22:36:00-CME-001'}],\n",
       " 'submissionTime': '2024-03-08T19:01Z',\n",
       " 'link': 'https://webtools.ccmc.gsfc.nasa.gov/DONKI/view/FLR/29506/-1'}"
      ]
     },
     "execution_count": 13,
     "metadata": {},
     "output_type": "execute_result"
    }
   ],
   "source": [
    "data[0]"
   ]
  },
  {
   "cell_type": "code",
   "execution_count": 18,
   "metadata": {},
   "outputs": [
    {
     "data": {
      "text/html": [
       "<div>\n",
       "<style scoped>\n",
       "    .dataframe tbody tr th:only-of-type {\n",
       "        vertical-align: middle;\n",
       "    }\n",
       "\n",
       "    .dataframe tbody tr th {\n",
       "        vertical-align: top;\n",
       "    }\n",
       "\n",
       "    .dataframe thead th {\n",
       "        text-align: right;\n",
       "    }\n",
       "</style>\n",
       "<table border=\"1\" class=\"dataframe\">\n",
       "  <thead>\n",
       "    <tr style=\"text-align: right;\">\n",
       "      <th></th>\n",
       "      <th>flrID</th>\n",
       "      <th>instruments</th>\n",
       "      <th>beginTime</th>\n",
       "      <th>peakTime</th>\n",
       "      <th>endTime</th>\n",
       "      <th>classType</th>\n",
       "      <th>sourceLocation</th>\n",
       "      <th>activeRegionNum</th>\n",
       "      <th>note</th>\n",
       "      <th>linkedEvents</th>\n",
       "      <th>submissionTime</th>\n",
       "      <th>link</th>\n",
       "    </tr>\n",
       "  </thead>\n",
       "  <tbody>\n",
       "    <tr>\n",
       "      <th>0</th>\n",
       "      <td>2024-04-01T01:13:00-FLR-001</td>\n",
       "      <td>[{'displayName': 'GOES-P: EXIS 1.0-8.0'}]</td>\n",
       "      <td>2024-04-01T01:13Z</td>\n",
       "      <td>2024-04-01T01:32Z</td>\n",
       "      <td>2024-04-01T01:57Z</td>\n",
       "      <td>M3.9</td>\n",
       "      <td>S13W108</td>\n",
       "      <td>13615</td>\n",
       "      <td>There is also a simultaneous sympathetic erupt...</td>\n",
       "      <td>None</td>\n",
       "      <td>2024-04-01T02:05Z</td>\n",
       "      <td>https://webtools.ccmc.gsfc.nasa.gov/DONKI/view...</td>\n",
       "    </tr>\n",
       "  </tbody>\n",
       "</table>\n",
       "</div>"
      ],
      "text/plain": [
       "                         flrID                                instruments  \\\n",
       "0  2024-04-01T01:13:00-FLR-001  [{'displayName': 'GOES-P: EXIS 1.0-8.0'}]   \n",
       "\n",
       "           beginTime           peakTime            endTime classType  \\\n",
       "0  2024-04-01T01:13Z  2024-04-01T01:32Z  2024-04-01T01:57Z      M3.9   \n",
       "\n",
       "  sourceLocation  activeRegionNum  \\\n",
       "0        S13W108            13615   \n",
       "\n",
       "                                                note linkedEvents  \\\n",
       "0  There is also a simultaneous sympathetic erupt...         None   \n",
       "\n",
       "      submissionTime                                               link  \n",
       "0  2024-04-01T02:05Z  https://webtools.ccmc.gsfc.nasa.gov/DONKI/view...  "
      ]
     },
     "execution_count": 18,
     "metadata": {},
     "output_type": "execute_result"
    }
   ],
   "source": [
    "normalized_data = pd.json_normalize(data)\n",
    "normalized_data"
   ]
  },
  {
   "cell_type": "code",
   "execution_count": 19,
   "metadata": {},
   "outputs": [],
   "source": [
    "normalized_data.to_csv('../data/APIdata/solar_data_2024-04-01_to_2024-04-03.csv')"
   ]
  },
  {
   "cell_type": "markdown",
   "metadata": {},
   "source": [
    "https://www.swpc.noaa.gov/phenomena/solar-flares-radio-blackouts"
   ]
  },
  {
   "cell_type": "markdown",
   "metadata": {},
   "source": [
    "Features:\n",
    "\n",
    "- **flrID**: This is an identifier for the flare event.\n",
    "- **instruments**: These are the tools or instruments used to observe the flare (e.g., GOES15: SEM/XRS 1.0-8.0).\n",
    "- **beginTime**, peakTime, endTime: These represent the start time, peak time, and end time of the flare event.\n",
    "- **sourceLocation**: This indicates the solar coordinates (latitude and longitude on the solar surface) where the flare originated.\n",
    "- **activeRegionNum**: This is the NOAA active region number, which is a unique identifier for the region of the sun where the flare occurred.\n",
    "- **linkedEvents**: This includes IDs of other space weather events linked to the flare, such as Coronal Mass Ejections (CMEs) or Solar Energetic Particle (SEP) events.\n",
    "- **link**: This provides a URL to more information about the specific flare event."
   ]
  },
  {
   "cell_type": "markdown",
   "metadata": {},
   "source": [
    "NOAA Space Weather Scales\n",
    "\n",
    "- X-Class Flares: These are the most intense flares. They are major events that can trigger planet-wide radio blackouts and long-lasting radiation storms.\n",
    "\n",
    "- M-Class Flares: These are medium-sized; they can cause brief radio blackouts that affect Earth's polar regions. Minor radiation storms might occur.\n",
    "\n",
    "- C-Class Flares: These are small with few noticeable consequences on Earth, except for minor disruptions in polar radio communications.\n",
    "\n",
    "- B-Class Flares: These are even smaller, with little to no effect on Earth.\n",
    "\n",
    "- A-Class Flares: These are the smallest flares, which are similar to B-Class in their lack of significant impact on Earth.\n",
    "\n",
    "\n",
    "The number that follows the letter represents the peak flux (in watts per square meter, W/m²) of x-rays near Earth, as measured in the 1 to 8 angstrom range. For example, an M2.3 class flare has a peak flux between 2x10^-5 and 3x10^-5 W/m².\n",
    "\n"
   ]
  }
 ],
 "metadata": {
  "kernelspec": {
   "display_name": "nasa_dwh",
   "language": "python",
   "name": "python3"
  },
  "language_info": {
   "codemirror_mode": {
    "name": "ipython",
    "version": 3
   },
   "file_extension": ".py",
   "mimetype": "text/x-python",
   "name": "python",
   "nbconvert_exporter": "python",
   "pygments_lexer": "ipython3",
   "version": "3.12.2"
  }
 },
 "nbformat": 4,
 "nbformat_minor": 2
}
