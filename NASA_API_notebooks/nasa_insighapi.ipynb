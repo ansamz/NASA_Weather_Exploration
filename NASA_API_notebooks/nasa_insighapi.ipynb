{
 "cells": [
  {
   "cell_type": "code",
   "execution_count": 3,
   "metadata": {},
   "outputs": [],
   "source": [
    "import requests\n",
    "import json"
   ]
  },
  {
   "cell_type": "code",
   "execution_count": 4,
   "metadata": {},
   "outputs": [],
   "source": [
    "with open('../config.json', 'r') as jsonfile:\n",
    "    data = json.load(jsonfile)\n",
    "api_key = data['api_key']"
   ]
  },
  {
   "cell_type": "code",
   "execution_count": 27,
   "metadata": {},
   "outputs": [],
   "source": [
    "url = f'https://api.nasa.gov/insight_weather/?api_key={api_key}&feedtype=json'"
   ]
  },
  {
   "cell_type": "code",
   "execution_count": 28,
   "metadata": {},
   "outputs": [],
   "source": [
    "def get_mars_weather():\n",
    "    try:\n",
    "        response = requests.get(url)\n",
    "        response.raise_for_status()\n",
    "        data = response.json()\n",
    "\n",
    "        print(data)\n",
    "\n",
    "        sol_keys = data['sol_keys']\n",
    "        print(f\"Latest available Sols: {sol_keys}\")\n",
    "\n",
    "        for sol in sol_keys:\n",
    "            sol_data = data[sol]\n",
    "            print(f\"\\nWeather for Sol {sol}:\")\n",
    "            if 'AT' in sol_data:\n",
    "                print(f\"Average Temperature: {sol_data['AT']['av']}°C\")\n",
    "            else:\n",
    "                print(\"Temperature data is not available.\")\n",
    "            \n",
    "            if 'HWS' in sol_data:\n",
    "                print(f\"Average Wind Speed: {sol_data['HWS']['av']} m/s\")\n",
    "            else:\n",
    "                print(\"Wind speed data is not available.\")\n",
    "            \n",
    "            if 'PRE' in sol_data:\n",
    "                print(f\"Average Atmospheric Pressure: {sol_data['PRE']['av']} Pa\")\n",
    "            else:\n",
    "                print(\"Pressure data is not available.\")\n",
    "            \n",
    "            if 'WD' in sol_data and sol_data['WD'].get('most_common'):\n",
    "                print(f\"Most Common Wind Direction: {sol_data['WD']['most_common']['compass_point']}\")\n",
    "            else:\n",
    "                print(\"Wind direction data is not available.\")\n",
    "\n",
    "            print(f\"Mars Season: {sol_data['Season']}\")\n",
    "            print(f\"First Data UTC: {sol_data['First_UTC']}\")\n",
    "            print(f\"Last Data UTC: {sol_data['Last_UTC']}\")\n",
    "\n",
    "    except requests.exceptions.RequestException as e:\n",
    "        print(f\"Request failed: {e}\")\n",
    "    except KeyError as e:\n",
    "        print(f\"Error processing data: {e} - The structure of the data might have changed or it's currently unavailable.\")"
   ]
  },
  {
   "cell_type": "code",
   "execution_count": 29,
   "metadata": {},
   "outputs": [
    {
     "name": "stdout",
     "output_type": "stream",
     "text": [
      "{'sol_keys': [], 'validity_checks': {'1219': {'AT': {'sol_hours_with_data': [6, 7, 8, 9, 10, 11, 12], 'valid': False}, 'HWS': {'sol_hours_with_data': [6, 7, 8, 9, 10, 11, 12], 'valid': False}, 'PRE': {'sol_hours_with_data': [6, 7, 8, 9, 10, 11, 12], 'valid': False}, 'WD': {'sol_hours_with_data': [6, 7, 8, 9, 10, 11, 12], 'valid': False}}, 'sol_hours_required': 18, 'sols_checked': ['1219']}}\n",
      "Latest available Sols: []\n"
     ]
    }
   ],
   "source": [
    "get_mars_weather()"
   ]
  },
  {
   "cell_type": "markdown",
   "metadata": {},
   "source": [
    "## Solar flare"
   ]
  },
  {
   "cell_type": "code",
   "execution_count": 22,
   "metadata": {},
   "outputs": [],
   "source": [
    "# we can change the dates \n",
    "solar_flare_url = f'https://api.nasa.gov/DONKI/FLR?startDate=2024-01-01&endDate=2024-02-01&api_key={api_key}'"
   ]
  },
  {
   "cell_type": "markdown",
   "metadata": {},
   "source": [
    "how it looks like\n",
    "\n",
    "```python\n",
    "[{\"flrID\":\"2016-01-01T23:00:00-FLR-001\",\"instruments\":[{\"displayName\":\"GOES15: SEM/XRS 1.0-8.0\"}],\"beginTime\":\"2016-01-01T23:00Z\",\"peakTime\":\"2015-01-02T00:10Z\",\"endTime\":null,\"classType\":\"M2.3\",\"sourceLocation\":\"S21W73\",\"activeRegionNum\":12473,\"linkedEvents\":[{\"activityID\":\"2016-01-01T23:12:00-CME-001\"},{\"activityID\":\"2016-01-02T02:48:00-SEP-001\"},{\"activityID\":\"2016-01-02T04:30:00-SEP-001\"}],\"link\":\"https://webtools.ccmc.gsfc.nasa.gov/DONKI/view/FLR/9963/-1\"},{\"flrID\":\"2016-01-28T11:48:00-FLR-001\",\"instruments\":[{\"displayName\":\"GOES15: SEM/XRS 1.0-8.0\"}],\"beginTime\":\"2016-01-28T11:48Z\",\"peakTime\":\"2016-01-28T12:02Z\",\"endTime\":\"2016-01-28T12:56Z\",\"classType\":\"C9.6\",\"sourceLocation\":\"N03W47\",\"activeRegionNum\":12488,\"linkedEvents\":[{\"activityID\":\"2016-01-28T12:24:00-CME-001\"}],\"link\":\"https://webtools.ccmc.gsfc.nasa.gov/DONKI/view/FLR/10122/-1\"}]\n",
    "```"
   ]
  },
  {
   "cell_type": "code",
   "execution_count": 25,
   "metadata": {},
   "outputs": [
    {
     "name": "stdout",
     "output_type": "stream",
     "text": [
      "50\n"
     ]
    }
   ],
   "source": [
    "try:\n",
    "    response = requests.get(solar_flare_url)\n",
    "    response.raise_for_status()\n",
    "    data = response.json()\n",
    "    print(len(data))\n",
    "except requests.exceptions.RequestException as e:\n",
    "    print(f\"Request failed: {e}\")"
   ]
  }
 ],
 "metadata": {
  "kernelspec": {
   "display_name": "nasa_dwh",
   "language": "python",
   "name": "python3"
  },
  "language_info": {
   "codemirror_mode": {
    "name": "ipython",
    "version": 3
   },
   "file_extension": ".py",
   "mimetype": "text/x-python",
   "name": "python",
   "nbconvert_exporter": "python",
   "pygments_lexer": "ipython3",
   "version": "3.12.2"
  }
 },
 "nbformat": 4,
 "nbformat_minor": 2
}
